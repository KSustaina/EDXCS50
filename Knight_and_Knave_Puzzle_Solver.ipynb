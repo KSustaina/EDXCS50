{
  "cells": [
    {
      "cell_type": "markdown",
      "metadata": {
        "id": "view-in-github",
        "colab_type": "text"
      },
      "source": [
        "<a href=\"https://colab.research.google.com/github/KSustaina/EDXCS50/blob/main/Knight_and_Knave_Puzzle_Solver.ipynb\" target=\"_parent\"><img src=\"https://colab.research.google.com/assets/colab-badge.svg\" alt=\"Open In Colab\"/></a>"
      ]
    },
    {
      "cell_type": "code",
      "source": [
        "def solve_knight_knave_puzzle(puzzle_number):\n",
        "    \"\"\"\n",
        "    Solves a knight and knave logic puzzle for the given puzzle number.\n",
        "\n",
        "    Args:\n",
        "        puzzle_number (int): The number of the puzzle to solve (0, 1, 2, or 3).\n",
        "\n",
        "    Returns:\n",
        "        list: A list of possible solutions, where each solution is a dictionary\n",
        "              mapping characters ('A', 'B', 'C') to their type ('knight' or 'knave').\n",
        "              Returns an empty list if no consistent solution is found.\n",
        "    \"\"\"\n",
        "\n",
        "    solutions = []\n",
        "\n",
        "    if puzzle_number == 0:\n",
        "        # Puzzle 0: A says \"I am both a knight and a knave.\"\n",
        "        for a_type in [\"knight\", \"knave\"]:\n",
        "            a_statement = (a_type == \"knight\" and a_type == \"knave\")\n",
        "            if (a_type == \"knight\" and a_statement) or (a_type == \"knave\" and not a_statement):\n",
        "                solutions.append({\"A\": a_type})\n",
        "\n",
        "    elif puzzle_number == 1:\n",
        "        # Puzzle 1: A says \"We are both knaves.\" B says nothing.\n",
        "        for a_type in [\"knight\", \"knave\"]:\n",
        "            for b_type in [\"knight\", \"knave\"]:\n",
        "                a_statement = (a_type == \"knight\" and a_type == \"knave\" and b_type == \"knave\")\n",
        "                if (a_type == \"knight\" and a_statement) or (a_type == \"knave\" and not a_statement):\n",
        "                    solutions.append({\"A\": a_type, \"B\": b_type})\n",
        "\n",
        "    elif puzzle_number == 2:\n",
        "        # Puzzle 2: A says \"We are the same kind.\" B says \"We are of different kinds.\"\n",
        "        for a_type in [\"knight\", \"knave\"]:\n",
        "            for b_type in [\"knight\", \"knave\"]:\n",
        "                a_statement = (a_type == \"knight\" and (a_type == b_type))\n",
        "                b_statement = (b_type == \"knight\" and (a_type != b_type))\n",
        "                if ((a_type == \"knight\" and a_statement) or (a_type == \"knave\" and not a_statement)) and \\\n",
        "                   ((b_type == \"knight\" and b_statement) or (b_type == \"knave\" and not b_statement)):\n",
        "                    solutions.append({\"A\": a_type, \"B\": b_type})\n",
        "\n",
        "    elif puzzle_number == 3:\n",
        "        # Puzzle 3: A says \"I am a knight.\" or \"I am a knave.\" (unknown which)\n",
        "        #           B says \"A said 'I am a knave.'\" and \"C is a knave.\"\n",
        "        #           C says \"A is a knight.\"\n",
        "        for a_type in [\"knight\", \"knave\"]:\n",
        "            for b_type in [\"knight\", \"knave\"]:\n",
        "                for c_type in [\"knight\", \"knave\"]:\n",
        "                    # Consider B's first statement: \"A said 'I am a knave.'\"\n",
        "                    a_said_knave = (a_type == \"knave\")\n",
        "                    b_first_statement = (b_type == \"knight\" and a_said_knave) or (b_type == \"knave\" and not a_said_knave)\n",
        "\n",
        "                    # Consider B's second statement: \"C is a knave.\"\n",
        "                    b_second_statement = (b_type == \"knight\" and c_type == \"knave\") or (b_type == \"knave\" and c_type == \"knight\")\n",
        "\n",
        "                    # Consider C's statement: \"A is a knight.\"\n",
        "                    c_statement = (c_type == \"knight\" and a_type == \"knight\") or (c_type == \"knave\" and a_type == \"knave\")\n",
        "\n",
        "                    if b_first_statement and b_second_statement and c_statement:\n",
        "                        solutions.append({\"A\": a_type, \"B\": b_type, \"C\": c_type})\n",
        "\n",
        "    else:\n",
        "        return \"Invalid puzzle number.\"\n",
        "\n",
        "    return solutions\n",
        "\n",
        "# Solve each puzzle and print the results\n",
        "for i in range(4):\n",
        "    results = solve_knight_knave_puzzle(i)\n",
        "    print(f\"Solutions for Puzzle {i}:\")\n",
        "    if results:\n",
        "        for solution in results:\n",
        "            print(solution)\n",
        "    else:\n",
        "        print(\"No consistent solution found.\")\n",
        "    print(\"-\" * 20)"
      ],
      "outputs": [
        {
          "output_type": "stream",
          "name": "stdout",
          "text": [
            "Solutions for Puzzle 0:\n",
            "{'A': 'knave'}\n",
            "--------------------\n",
            "Solutions for Puzzle 1:\n",
            "{'A': 'knave', 'B': 'knight'}\n",
            "{'A': 'knave', 'B': 'knave'}\n",
            "--------------------\n",
            "Solutions for Puzzle 2:\n",
            "{'A': 'knave', 'B': 'knight'}\n",
            "{'A': 'knave', 'B': 'knave'}\n",
            "--------------------\n",
            "Solutions for Puzzle 3:\n",
            "{'A': 'knight', 'B': 'knave', 'C': 'knight'}\n",
            "{'A': 'knave', 'B': 'knight', 'C': 'knave'}\n",
            "--------------------\n"
          ]
        }
      ],
      "execution_count": 3,
      "metadata": {
        "colab": {
          "base_uri": "https://localhost:8080/"
        },
        "id": "VIIOeQwib4hC",
        "outputId": "75f84749-b910-4eb6-eb6c-5ddccc18b276"
      }
    }
  ],
  "metadata": {
    "colab": {
      "provenance": [],
      "include_colab_link": true
    },
    "kernelspec": {
      "display_name": "Python 3",
      "name": "python3"
    }
  },
  "nbformat": 4,
  "nbformat_minor": 0
}